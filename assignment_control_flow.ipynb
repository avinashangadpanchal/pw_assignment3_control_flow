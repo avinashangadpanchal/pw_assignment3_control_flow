{
  "nbformat": 4,
  "nbformat_minor": 0,
  "metadata": {
    "colab": {
      "provenance": []
    },
    "kernelspec": {
      "name": "python3",
      "display_name": "Python 3"
    },
    "language_info": {
      "name": "python"
    }
  },
  "cells": [
    {
      "cell_type": "code",
      "execution_count": null,
      "metadata": {
        "colab": {
          "base_uri": "https://localhost:8080/"
        },
        "id": "Hx0PYE-6Zcv2",
        "outputId": "af0d64a5-b7da-447a-8b15-e9f42041a2f1"
      },
      "outputs": [
        {
          "output_type": "stream",
          "name": "stdout",
          "text": [
            "hello world\n"
          ]
        }
      ],
      "source": [
        "print(\"hello world\")"
      ]
    },
    {
      "cell_type": "code",
      "source": [],
      "metadata": {
        "id": "jIie2Qn9aStN"
      },
      "execution_count": null,
      "outputs": []
    },
    {
      "cell_type": "markdown",
      "source": [
        "Write a Python program to check if a given number is positive or negative."
      ],
      "metadata": {
        "id": "A9fxchfEaTie"
      }
    },
    {
      "cell_type": "code",
      "source": [
        "number = int(input(\"Enter a number: \"))\n",
        "if number > 0:\n",
        "    print(\"The number is positive.\")\n",
        "elif number < 0:\n",
        "    print(\"The number is negative.\")\n",
        "else:\n",
        "    print(\"The number is zero.\")"
      ],
      "metadata": {
        "colab": {
          "base_uri": "https://localhost:8080/"
        },
        "id": "154OErmGaVK2",
        "outputId": "55d441b0-27cb-4d56-845a-1e63addd2d5c"
      },
      "execution_count": 1,
      "outputs": [
        {
          "output_type": "stream",
          "name": "stdout",
          "text": [
            "Enter a number: 5\n",
            "The number is positive.\n"
          ]
        }
      ]
    },
    {
      "cell_type": "markdown",
      "source": [
        "2. Create a program that determines if a person is eligible to vote based on their age."
      ],
      "metadata": {
        "id": "qHR9fsmgcHX_"
      }
    },
    {
      "cell_type": "code",
      "source": [
        "age=int(input(\"Enter your age: \"))\n",
        "if age>=18:\n",
        "    print(\"You are eligible to vote\")\n",
        "else:\n",
        "    print(\"You are not eligible to vote\")"
      ],
      "metadata": {
        "colab": {
          "base_uri": "https://localhost:8080/"
        },
        "id": "K5iQ-26EcJvO",
        "outputId": "ba4c30eb-c381-48e2-cba3-f1e2a56a5cde"
      },
      "execution_count": 2,
      "outputs": [
        {
          "output_type": "stream",
          "name": "stdout",
          "text": [
            "Enter your age: 56\n",
            "You are eligible to vote\n"
          ]
        }
      ]
    },
    {
      "cell_type": "markdown",
      "source": [
        "3. Develop a program to find the maximum of two numbers using if-else statements."
      ],
      "metadata": {
        "id": "pFaZiTVpceed"
      }
    },
    {
      "cell_type": "code",
      "source": [
        "\n",
        "num1 = float(input(\"Enter the first number: \"))\n",
        "num2 = float(input(\"Enter the second number: \"))\n",
        "\n",
        "if num1 > num2:\n",
        "  print(num1, \"is greater\")\n",
        "elif num2 > num1:\n",
        "  print(num2, \"is greater\")\n",
        "else:\n",
        "  print(\"Both numbers are equal\")\n"
      ],
      "metadata": {
        "colab": {
          "base_uri": "https://localhost:8080/"
        },
        "id": "LGbT1UsOcply",
        "outputId": "f9076f24-cdb5-4ad1-fbfb-94ba8263dbd4"
      },
      "execution_count": 3,
      "outputs": [
        {
          "output_type": "stream",
          "name": "stdout",
          "text": [
            "Enter the first number: 25\n",
            "Enter the second number: 45\n",
            "45.0 is greater\n"
          ]
        }
      ]
    },
    {
      "cell_type": "markdown",
      "source": [
        "4. Write a Python script to classify a given year as a leap year or not."
      ],
      "metadata": {
        "id": "cW4jro9cdQYF"
      }
    },
    {
      "cell_type": "code",
      "source": [
        "year = int(input(\"Enter a year: \"))\n",
        "\n",
        "if (year % 4 == 0 and year % 100 != 0) or (year % 400 == 0):\n",
        "    print(year, \"is a leap year.\")\n",
        "else:\n",
        "    print(year, \"is not a leap year.\")"
      ],
      "metadata": {
        "colab": {
          "base_uri": "https://localhost:8080/"
        },
        "id": "QB-4zTGadSg2",
        "outputId": "79e765af-eaf1-4cc1-db9b-c03bc2cfd309"
      },
      "execution_count": 4,
      "outputs": [
        {
          "output_type": "stream",
          "name": "stdout",
          "text": [
            "Enter a year: 2020\n",
            "2020 is a leap year.\n"
          ]
        }
      ]
    },
    {
      "cell_type": "markdown",
      "source": [
        "5. Create a program that checks whether a character is a vowel or a consonant."
      ],
      "metadata": {
        "id": "Niuws0ZPd0tU"
      }
    },
    {
      "cell_type": "code",
      "source": [
        "\n",
        "character=input(\"Enter a character: \")\n",
        "if character in \"aeiouAEIOU\":\n",
        "    print(character, \"is a vowel.\")\n",
        "else:\n",
        "    print(character, \"is a consonant.\")"
      ],
      "metadata": {
        "colab": {
          "base_uri": "https://localhost:8080/"
        },
        "id": "Zpojl665d19S",
        "outputId": "4d1cae44-1be6-42dd-8d76-4678765d22cd"
      },
      "execution_count": 5,
      "outputs": [
        {
          "output_type": "stream",
          "name": "stdout",
          "text": [
            "Enter a character: u\n",
            "u is a vowel.\n"
          ]
        }
      ]
    },
    {
      "cell_type": "code",
      "source": [
        "# Question: 6. Implement a program to determine whether a given number is even or odd.\n",
        "\n",
        "number = int(input(\"Enter a number: \"))\n",
        "if number%2==0:\n",
        "  print(number, \"is even\")\n",
        "else:\n",
        "  print(number, \"is odd\")\n"
      ],
      "metadata": {
        "id": "PrYKq2XfeS7d",
        "colab": {
          "base_uri": "https://localhost:8080/"
        },
        "outputId": "af402d4d-2d0b-49c3-d2b9-61fe086f7cef"
      },
      "execution_count": 6,
      "outputs": [
        {
          "output_type": "stream",
          "name": "stdout",
          "text": [
            "Enter a number: 23\n",
            "23 is odd\n"
          ]
        }
      ]
    },
    {
      "cell_type": "code",
      "source": [
        "# Question: 7. Write a Python function to calculate the absolute value of a number without using the `abs()` function.\n",
        "\n",
        "def absolute_value(num):\n",
        "  if num >= 0:\n",
        "    return num\n",
        "  else:\n",
        "    return -num\n",
        "\n",
        "# Example usage\n",
        "num = float(input(\"Enter a number: \"))\n",
        "print(\"The absolute value of\", num, \"is\", absolute_value(num))\n"
      ],
      "metadata": {
        "id": "hPyTQqXpiuPp"
      },
      "execution_count": null,
      "outputs": []
    },
    {
      "cell_type": "code",
      "source": [
        "# Question: 8. Develop a program that determines the largest of three given numbers using if-else statements.\n",
        "\n",
        "num1 = float(input(\"Enter the first number: \"))\n",
        "num2 = float(input(\"Enter the second number: \"))\n",
        "num3 = float(input(\"Enter the third number: \"))\n",
        "\n",
        "if num1 >= num2 and num1 >= num3:\n",
        "  largest = num1\n",
        "elif num2 >= num1 and num2 >= num3:\n",
        "  largest = num2\n",
        "else:\n",
        "  largest = num3\n",
        "\n",
        "print(\"The largest number is\", largest)\n"
      ],
      "metadata": {
        "colab": {
          "base_uri": "https://localhost:8080/"
        },
        "id": "L_B6QdRXitye",
        "outputId": "428b438e-fa6e-4ddb-fa18-aa0cccadd68b"
      },
      "execution_count": null,
      "outputs": [
        {
          "name": "stdout",
          "output_type": "stream",
          "text": [
            "Enter the second number: 4\n"
          ]
        }
      ]
    },
    {
      "cell_type": "code",
      "source": [
        "# Question: 9. Create a program that checks if a given string is a palindrome.\n",
        "\n",
        "def is_palindrome(s):\n",
        "  s = s.lower()\n",
        "  return s == s[::-1]\n",
        "\n",
        "# Example usage\n",
        "string = input(\"Enter a string: \")\n",
        "if is_palindrome(string):\n",
        "  print(string, \"is a palindrome.\")\n",
        "else:\n",
        "  print(string, \"is not a palindrome.\")\n"
      ],
      "metadata": {
        "id": "3myYz2IqjvQK"
      },
      "execution_count": null,
      "outputs": []
    },
    {
      "cell_type": "markdown",
      "source": [],
      "metadata": {
        "id": "f-XLKzFRkIAc"
      }
    },
    {
      "cell_type": "code",
      "source": [
        "# Question: 10. Write a Python program to calculate the grade based on a student's score.\n",
        "\n",
        "score = float(input(\"Enter the student's score: \"))\n",
        "\n",
        "if score >= 90:\n",
        "  grade = \"A\"\n",
        "elif score >= 80:\n",
        "  grade = \"B\"\n",
        "elif score >= 70:\n",
        "  grade = \"C\"\n",
        "elif score >= 60:\n",
        "  grade = \"D\"\n",
        "else:\n",
        "  grade = \"F\"\n",
        "\n",
        "print(\"The student's grade is:\", grade)\n"
      ],
      "metadata": {
        "id": "dYTTzxgjkezT",
        "colab": {
          "base_uri": "https://localhost:8080/"
        },
        "outputId": "3e45445e-46ed-4e8c-d5ae-8e17bf4b9adb"
      },
      "execution_count": 7,
      "outputs": [
        {
          "output_type": "stream",
          "name": "stdout",
          "text": [
            "Enter the student's score: 68\n",
            "The student's grade is: D\n"
          ]
        }
      ]
    },
    {
      "cell_type": "code",
      "source": [
        "# Question: 11. Write a program to find the largest among three numbers using nested if-else statements.\n",
        "\n",
        "num1 = float(input(\"Enter the first number: \"))\n",
        "num2 = float(input(\"Enter the second number: \"))\n",
        "num3 = float(input(\"Enter the third number: \"))\n",
        "\n",
        "if num1 >= num2:\n",
        "  if num1 >= num3:\n",
        "    largest = num1\n",
        "  else:\n",
        "    largest = num3\n",
        "else:\n",
        "  if num2 >= num3:\n",
        "    largest = num2\n",
        "  else:\n",
        "    largest = num3\n",
        "\n",
        "print(\"The largest number is\", largest)\n"
      ],
      "metadata": {
        "id": "90Z4N7wMknal",
        "colab": {
          "base_uri": "https://localhost:8080/"
        },
        "outputId": "7de73f7d-aeb4-4995-a7e5-d8d78bac29d2"
      },
      "execution_count": 8,
      "outputs": [
        {
          "output_type": "stream",
          "name": "stdout",
          "text": [
            "Enter the first number: 32\n",
            "Enter the second number: 456\n",
            "Enter the third number: 489681\n",
            "The largest number is 489681.0\n"
          ]
        }
      ]
    },
    {
      "cell_type": "code",
      "source": [
        "# Question: 12. Implement a program to determine if a triangle is equilateral, isosceles, or scalene.\n",
        "\n",
        "side1 = float(input(\"Enter the length of side 1: \"))\n",
        "side2 = float(input(\"Enter the length of side 2: \"))\n",
        "side3 = float(input(\"Enter the length of side 3: \"))\n",
        "\n",
        "if side1 == side2 == side3:\n",
        "  print(\"The triangle is equilateral.\")\n",
        "elif side1 == side2 or side2 == side3 or side1 == side3:\n",
        "  print(\"The triangle is isosceles.\")\n",
        "else:\n",
        "  print(\"The triangle is scalene.\")\n"
      ],
      "metadata": {
        "id": "qhRsBat3k1ob",
        "colab": {
          "base_uri": "https://localhost:8080/"
        },
        "outputId": "9d2ba26b-1f49-4529-c0ec-90fefe9c650b"
      },
      "execution_count": 9,
      "outputs": [
        {
          "output_type": "stream",
          "name": "stdout",
          "text": [
            "Enter the length of side 1: 25\n",
            "Enter the length of side 2: 9\n",
            "Enter the length of side 3: 4\n",
            "The triangle is scalene.\n"
          ]
        }
      ]
    },
    {
      "cell_type": "code",
      "source": [
        "# Question: 13. Develop a program that checks if a year is a leap year and also if it is a century year.\n",
        "\n",
        "year = int(input(\"Enter a year: \"))\n",
        "\n",
        "if (year % 4 == 0 and year % 100 != 0) or (year % 400 == 0):\n",
        "  print(year, \"is a leap year.\")\n",
        "else:\n",
        "  print(year, \"is not a leap year.\")\n",
        "\n",
        "if year % 100 == 0:\n",
        "  print(year, \"is a century year.\")\n",
        "else:\n",
        "  print(year, \"is not a century year.\")\n"
      ],
      "metadata": {
        "id": "IK7hy0W9lDQ1",
        "colab": {
          "base_uri": "https://localhost:8080/"
        },
        "outputId": "94aeaea7-6188-437b-973d-39a6b4b8bf9a"
      },
      "execution_count": 10,
      "outputs": [
        {
          "output_type": "stream",
          "name": "stdout",
          "text": [
            "Enter a year: 2014\n",
            "2014 is not a leap year.\n",
            "2014 is not a century year.\n"
          ]
        }
      ]
    },
    {
      "cell_type": "code",
      "source": [
        "# Question: 14. Write a Python script to determine if a number is positive, negative, or zero.\n",
        "\n",
        "num = float(input(\"Enter a number: \"))\n",
        "if num > 0:\n",
        "  print(\"Positive number\")\n",
        "elif num == 0:\n",
        "  print(\"Zero\")\n",
        "else:\n",
        "  print(\"Negative number\")\n"
      ],
      "metadata": {
        "id": "1lXGVglvlYZ4",
        "colab": {
          "base_uri": "https://localhost:8080/"
        },
        "outputId": "18600598-6424-4c2c-e4f8-c1b69842d4f6"
      },
      "execution_count": 11,
      "outputs": [
        {
          "output_type": "stream",
          "name": "stdout",
          "text": [
            "Enter a number: -245\n",
            "Negative number\n"
          ]
        }
      ]
    },
    {
      "cell_type": "code",
      "source": [
        "# Question: 15. Create a program to check if a person is a teenager (between 13 and 19 years old).\n",
        "\n",
        "age = int(input(\"Enter a person's age: \"))\n",
        "\n",
        "if age >= 13 and age <= 19:\n",
        "  print(\"The person is a teenager.\")\n",
        "else:\n",
        "  print(\"The person is not a teenager.\")\n"
      ],
      "metadata": {
        "id": "38enZVgmlhmW",
        "colab": {
          "base_uri": "https://localhost:8080/"
        },
        "outputId": "64b596fa-d98b-4717-d75d-60e9eef03b76"
      },
      "execution_count": 12,
      "outputs": [
        {
          "output_type": "stream",
          "name": "stdout",
          "text": [
            "Enter a person's age: 21\n",
            "The person is not a teenager.\n"
          ]
        }
      ]
    },
    {
      "cell_type": "code",
      "source": [
        "# Question: 16. Develop a program that determines the type of angle based on its measure (acute, obtuse, or right).\n",
        "\n",
        "angle = float(input(\"Enter the angle measure in degrees: \"))\n",
        "\n",
        "if angle < 90:\n",
        "  print(\"The angle is acute.\")\n",
        "elif angle == 90:\n",
        "  print(\"The angle is right.\")\n",
        "else:\n",
        "  print(\"The angle is obtuse.\")\n"
      ],
      "metadata": {
        "id": "3aPgWVrMls09",
        "colab": {
          "base_uri": "https://localhost:8080/"
        },
        "outputId": "b6b5c5d4-70f2-4623-9539-b74d3bf3fe42"
      },
      "execution_count": 13,
      "outputs": [
        {
          "output_type": "stream",
          "name": "stdout",
          "text": [
            "Enter the angle measure in degrees: 90\n",
            "The angle is right.\n"
          ]
        }
      ]
    },
    {
      "cell_type": "code",
      "source": [
        "# Question: 17. Write a Python program to calculate the roots of a quadratic equation.\n",
        "\n",
        "import math\n",
        "\n",
        "a = float(input(\"Enter the coefficient a: \"))\n",
        "b = float(input(\"Enter the coefficient b: \"))\n",
        "c = float(input(\"Enter the coefficient c: \"))\n",
        "\n",
        "delta = (b**2) - 4*(a*c)\n",
        "\n",
        "if delta > 0:\n",
        "  x1 = (-b - math.sqrt(delta)) / (2*a)\n",
        "  x2 = (-b + math.sqrt(delta)) / (2*a)\n",
        "  print(\"The roots are real and different.\")\n",
        "  print(\"x1 = \", x1)\n",
        "  print(\"x2 = \", x2)\n",
        "elif delta == 0:\n",
        "  x1 = (-b - math.sqrt(delta)) / (2*a)\n",
        "  print(\"The roots are real and same.\")\n",
        "  print(\"x1 = x2 =\", x1)\n",
        "else:\n",
        "  print(\"The roots are complex and different.\")\n"
      ],
      "metadata": {
        "id": "YqaXBoAml2En",
        "colab": {
          "base_uri": "https://localhost:8080/"
        },
        "outputId": "0b7ae97d-749b-4e31-e7aa-402720fc7896"
      },
      "execution_count": 15,
      "outputs": [
        {
          "output_type": "stream",
          "name": "stdout",
          "text": [
            "Enter the coefficient a: 0.25\n",
            "Enter the coefficient b: .45\n",
            "Enter the coefficient c: 1.02\n",
            "The roots are complex and different.\n"
          ]
        }
      ]
    },
    {
      "cell_type": "code",
      "source": [
        "# Question: 18. Implement a program to determine the day of the week based on a user-provided number (1 for Monday, 2\n",
        "# for Tuesday, etc.).\n",
        "\n",
        "day_num = int(input(\"Enter a number (1-7) for the day of the week: \"))\n",
        "\n",
        "if day_num == 1:\n",
        "  day = \"Monday\"\n",
        "elif day_num == 2:\n",
        "  day = \"Tuesday\"\n",
        "elif day_num == 3:\n",
        "  day = \"Wednesday\"\n",
        "elif day_num == 4:\n",
        "  day = \"Thursday\"\n",
        "elif day_num == 5:\n",
        "  day = \"Friday\"\n",
        "elif day_num == 6:\n",
        "  day = \"Saturday\"\n",
        "elif day_num == 7:\n",
        "  day = \"Sunday\"\n",
        "else:\n",
        "  day = \"Invalid number\"\n",
        "\n",
        "print(day)\n"
      ],
      "metadata": {
        "id": "RdQzNVSll9_5",
        "colab": {
          "base_uri": "https://localhost:8080/"
        },
        "outputId": "e605463a-5649-48c2-da00-f4036ad6eebb"
      },
      "execution_count": 16,
      "outputs": [
        {
          "output_type": "stream",
          "name": "stdout",
          "text": [
            "Enter a number (1-7) for the day of the week: 5\n",
            "Friday\n"
          ]
        }
      ]
    },
    {
      "cell_type": "code",
      "source": [
        "# Question: 19. Create a program that determines if a year is a leap year and also if it is evenly divisible by 400.\n",
        "\n",
        "year = int(input(\"Enter a year: \"))\n",
        "\n",
        "if (year % 4 == 0 and year % 100 != 0) or (year % 400 == 0):\n",
        "  print(year, \"is a leap year.\")\n",
        "else:\n",
        "  print(year, \"is not a leap year.\")\n",
        "\n",
        "if year % 400 == 0:\n",
        "  print(year, \"is evenly divisible by 400.\")\n",
        "else:\n",
        "  print(year, \"is not evenly divisible by 400.\")\n"
      ],
      "metadata": {
        "id": "_EJR0ktSmMC_",
        "colab": {
          "base_uri": "https://localhost:8080/"
        },
        "outputId": "f530456b-e6ef-4fb9-c3cc-22e10a42fc37"
      },
      "execution_count": 17,
      "outputs": [
        {
          "output_type": "stream",
          "name": "stdout",
          "text": [
            "Enter a year: 2016\n",
            "2016 is a leap year.\n",
            "2016 is not evenly divisible by 400.\n"
          ]
        }
      ]
    },
    {
      "cell_type": "code",
      "source": [
        "# Question: 20. Develop a program that checks if a given number is prime or not using nested if-else statements.\n",
        "\n",
        "num = int(input(\"Enter a number: \"))\n",
        "\n",
        "if num > 1:\n",
        "  for i in range(2, int(num/2)+1):\n",
        "    if (num % i) == 0:\n",
        "      print(num, \"is not a prime number\")\n",
        "      break\n",
        "  else:\n",
        "    print(num, \"is a prime number\")\n",
        "else:\n",
        "  print(num, \"is not a prime number\")\n"
      ],
      "metadata": {
        "id": "dvbuBxk-mXXt",
        "colab": {
          "base_uri": "https://localhost:8080/"
        },
        "outputId": "bc8d3886-8ee6-447d-ee29-df48667969a7"
      },
      "execution_count": 18,
      "outputs": [
        {
          "output_type": "stream",
          "name": "stdout",
          "text": [
            "Enter a number: 47\n",
            "47 is a prime number\n"
          ]
        }
      ]
    },
    {
      "cell_type": "code",
      "source": [
        "# Question: 21. Write a Python program to assign grades based on different ranges of scores using elif statements\n",
        "\n",
        "score = float(input(\"Enter the student's score: \"))\n",
        "\n",
        "if score >= 90:\n",
        "  grade = \"A\"\n",
        "elif score >= 80:\n",
        "  grade = \"B\"\n",
        "elif score >= 70:\n",
        "  grade = \"C\"\n",
        "elif score >= 60:\n",
        "  grade = \"D\"\n",
        "else:\n",
        "  grade = \"F\"\n",
        "\n",
        "print(\"The student's grade is:\", grade)\n"
      ],
      "metadata": {
        "id": "aRORa0kWmi5j",
        "colab": {
          "base_uri": "https://localhost:8080/"
        },
        "outputId": "d91d1639-42a8-4710-c548-4e6fcbb7a3dc"
      },
      "execution_count": 19,
      "outputs": [
        {
          "output_type": "stream",
          "name": "stdout",
          "text": [
            "Enter the student's score: 72\n",
            "The student's grade is: C\n"
          ]
        }
      ]
    },
    {
      "cell_type": "code",
      "source": [
        "# Question: 22. Implement a program to determine the type of a triangle based on its angles.\n",
        "\n",
        "angle1 = float(input(\"Enter the first angle: \"))\n",
        "angle2 = float(input(\"Enter the second angle: \"))\n",
        "angle3 = float(input(\"Enter the third angle: \"))\n",
        "\n",
        "if angle1 + angle2 + angle3 == 180:\n",
        "  if angle1 == 90 or angle2 == 90 or angle3 == 90:\n",
        "    print(\"Right-angled triangle\")\n",
        "  elif angle1 > 90 or angle2 > 90 or angle3 > 90:\n",
        "    print(\"Obtuse-angled triangle\")\n",
        "  else:\n",
        "    print(\"Acute-angled triangle\")\n",
        "else:\n",
        "  print(\"Not a valid triangle\")\n"
      ],
      "metadata": {
        "id": "CPT83FM5moEn",
        "colab": {
          "base_uri": "https://localhost:8080/"
        },
        "outputId": "2e5627d2-0153-4d0e-e18f-ccd19dc411f7"
      },
      "execution_count": 20,
      "outputs": [
        {
          "output_type": "stream",
          "name": "stdout",
          "text": [
            "Enter the first angle: 90\n",
            "Enter the second angle: 30\n",
            "Enter the third angle: 60\n",
            "Right-angled triangle\n"
          ]
        }
      ]
    },
    {
      "cell_type": "code",
      "source": [],
      "metadata": {
        "id": "-lvk8f3lnETi"
      },
      "execution_count": null,
      "outputs": []
    },
    {
      "cell_type": "code",
      "source": [
        "# Question: 23. Develop a program to categorize a given person's BMI into underweight, normal, overweight, or obese using\n",
        "# elif statements.\n",
        "\n",
        "height = float(input(\"Enter your height in meters: \"))\n",
        "weight = float(input(\"Enter your weight in kilograms: \"))\n",
        "\n",
        "bmi = weight / (height ** 2)\n",
        "\n",
        "if bmi < 18.5:\n",
        "  print(\"You are underweight.\")\n",
        "elif bmi >= 18.5 and bmi < 25:\n",
        "  print(\"You have a normal weight.\")\n",
        "elif bmi >= 25 and bmi < 30:\n",
        "  print(\"You are overweight.\")\n",
        "else:\n",
        "  print(\"You are obese.\")\n"
      ],
      "metadata": {
        "id": "UI94oRsYm5om",
        "colab": {
          "base_uri": "https://localhost:8080/"
        },
        "outputId": "d948f444-3392-4245-d547-9f97bf2df017"
      },
      "execution_count": 22,
      "outputs": [
        {
          "output_type": "stream",
          "name": "stdout",
          "text": [
            "Enter your height in meters: 0.186\n",
            "Enter your weight in kilograms: 100\n",
            "You are obese.\n"
          ]
        }
      ]
    },
    {
      "cell_type": "code",
      "source": [
        "# Question: 24. Create a program that determines whether a given number is positive, negative, or zero using elif\n",
        "# statements.\n",
        "\n",
        "num = float(input(\"Enter a number: \"))\n",
        "if num > 0:\n",
        "  print(\"Positive number\")\n",
        "elif num == 0:\n",
        "  print(\"Zero\")\n",
        "else:\n",
        "  print(\"Negative number\")\n"
      ],
      "metadata": {
        "id": "iAKbM-zhnGMR",
        "colab": {
          "base_uri": "https://localhost:8080/"
        },
        "outputId": "9ab177b2-bb0c-458f-ee33-3649cc95d5a8"
      },
      "execution_count": 23,
      "outputs": [
        {
          "output_type": "stream",
          "name": "stdout",
          "text": [
            "Enter a number: -25\n",
            "Negative number\n"
          ]
        }
      ]
    },
    {
      "cell_type": "code",
      "source": [
        "# Question: 25. Write a Python script to determine the type of a character (uppercase, lowercase, or special) using elif\n",
        "# statements.\n",
        "\n",
        "char = input(\"Enter a character: \")\n",
        "\n",
        "if char.isupper():\n",
        "  print(char, \"is an uppercase character.\")\n",
        "elif char.islower():\n",
        "  print(char, \"is a lowercase character.\")\n",
        "else:\n",
        "  print(char, \"is a special character.\")\n"
      ],
      "metadata": {
        "id": "pcu7amKRnHVf",
        "colab": {
          "base_uri": "https://localhost:8080/"
        },
        "outputId": "a4df0b7c-3cf9-481d-df62-f179169b3a6d"
      },
      "execution_count": 24,
      "outputs": [
        {
          "output_type": "stream",
          "name": "stdout",
          "text": [
            "Enter a character: ghg\n",
            "ghg is a lowercase character.\n"
          ]
        }
      ]
    },
    {
      "cell_type": "code",
      "source": [
        "# Question: 26. Implement a program to calculate the discounted price based on different purchase amounts using elif\n",
        "# statements.\n",
        "\n",
        "amount = float(input(\"Enter the purchase amount: \"))\n",
        "\n",
        "if amount <= 5000:\n",
        "  discount = 0.05\n",
        "elif amount <= 10000:\n",
        "  discount = 0.10\n",
        "elif amount <= 15000:\n",
        "  discount = 0.15\n",
        "else:\n",
        "  discount = 0.20\n",
        "\n",
        "discounted_price = amount - (amount * discount)\n",
        "\n",
        "print(\"Discounted price:\", discounted_price)\n"
      ],
      "metadata": {
        "id": "Pw_2_AgJniqL",
        "colab": {
          "base_uri": "https://localhost:8080/"
        },
        "outputId": "8947a97f-676f-4827-b810-0fc09a64191d"
      },
      "execution_count": 25,
      "outputs": [
        {
          "output_type": "stream",
          "name": "stdout",
          "text": [
            "Enter the purchase amount: 232\n",
            "Discounted price: 220.4\n"
          ]
        }
      ]
    },
    {
      "cell_type": "code",
      "source": [
        "# Question: 27. Develop a program to calculate the electricity bill based on different consumption slabs using elif\n",
        "# statements\n",
        "\n",
        "units = int(input(\"Enter the number of units consumed: \"))\n",
        "\n",
        "if units <= 50:\n",
        "  bill = units * 0.50\n",
        "elif units <= 150:\n",
        "  bill = 25 + (units - 50) * 0.75\n",
        "elif units <= 250:\n",
        "  bill = 100 + (units - 150) * 1.20\n",
        "else:\n",
        "  bill = 220 + (units - 250) * 1.50\n",
        "\n",
        "print(\"Electricity bill:\", bill)\n"
      ],
      "metadata": {
        "id": "hrCnfCtXnsYR",
        "colab": {
          "base_uri": "https://localhost:8080/"
        },
        "outputId": "575f54db-48e9-4184-e69c-a797f164f7b5"
      },
      "execution_count": 26,
      "outputs": [
        {
          "output_type": "stream",
          "name": "stdout",
          "text": [
            "Enter the number of units consumed: 55\n",
            "Electricity bill: 28.75\n"
          ]
        }
      ]
    },
    {
      "cell_type": "code",
      "source": [
        "# Question: 28. Create a program to determine the type of quadrilateral based on its angles and sides using elif\n",
        "# statements.\n",
        "\n",
        "# Get input for angles and sides\n",
        "angle1 = float(input(\"Enter the first angle: \"))\n",
        "angle2 = float(input(\"Enter the second angle: \"))\n",
        "angle3 = float(input(\"Enter the third angle: \"))\n",
        "angle4 = float(input(\"Enter the fourth angle: \"))\n",
        "\n",
        "side1 = float(input(\"Enter the length of the first side: \"))\n",
        "side2 = float(input(\"Enter the length of the second side: \"))\n",
        "side3 = float(input(\"Enter the length of the third side: \"))\n",
        "side4 = float(input(\"Enter the length of the fourth side: \"))\n",
        "\n",
        "# Check if it's a quadrilateral\n",
        "if angle1 + angle2 + angle3 + angle4 == 360:\n",
        "  # Check for different types of quadrilaterals\n",
        "  if side1 == side2 == side3 == side4:\n",
        "    if angle1 == angle2 == angle3 == angle4 == 90:\n",
        "      print(\"Square\")\n",
        "    else:\n",
        "      print(\"Rhombus\")\n",
        "  elif side1 == side3 and side2 == side4:\n",
        "    if angle1 == angle2 == angle3 == angle4 == 90:\n",
        "      print(\"Rectangle\")\n",
        "    else:\n",
        "      print(\"Parallelogram\")\n",
        "  elif (side1 == side2 and side3 == side4) or (side1 == side4 and side2 == side3):\n",
        "    print(\"Kite\")\n",
        "  else:\n",
        "    print(\"Trapezium\")\n",
        "else:\n",
        "  print(\"Not a valid quadrilateral\")\n"
      ],
      "metadata": {
        "id": "EzJX1SA2n2a7",
        "colab": {
          "base_uri": "https://localhost:8080/"
        },
        "outputId": "6c70d91f-5aff-4eb2-c3c4-e9038ef771dc"
      },
      "execution_count": 27,
      "outputs": [
        {
          "output_type": "stream",
          "name": "stdout",
          "text": [
            "Enter the first angle: 45\n",
            "Enter the second angle: 90\n",
            "Enter the third angle: 90\n",
            "Enter the fourth angle: 45\n",
            "Enter the length of the first side: 425\n",
            "Enter the length of the second side: 325\n",
            "Enter the length of the third side: 442\n",
            "Enter the length of the fourth side: 215\n",
            "Not a valid quadrilateral\n"
          ]
        }
      ]
    },
    {
      "cell_type": "code",
      "source": [
        "# Question: 29. Write a Python script to determine the season based on a user-provided month using elif statements\n",
        "\n",
        "month = input(\"Enter the month (e.g., January, February): \")\n",
        "\n",
        "if month in (\"December\", \"January\", \"February\"):\n",
        "  season = \"Winter\"\n",
        "elif month in (\"March\", \"April\", \"May\"):\n",
        "  season = \"Spring\"\n",
        "elif month in (\"June\", \"July\", \"August\"):\n",
        "  season = \"Summer\"\n",
        "elif month in (\"September\", \"October\", \"November\"):\n",
        "  season = \"Autumn\"\n",
        "else:\n",
        "  season = \"Invalid month\"\n",
        "\n",
        "print(\"The season is\", season)\n"
      ],
      "metadata": {
        "id": "29hfYuGyoCdC",
        "colab": {
          "base_uri": "https://localhost:8080/"
        },
        "outputId": "bdf8bf6f-8dcf-4364-dd7e-04f0cafb7baf"
      },
      "execution_count": 28,
      "outputs": [
        {
          "output_type": "stream",
          "name": "stdout",
          "text": [
            "Enter the month (e.g., January, February): January\n",
            "The season is Winter\n"
          ]
        }
      ]
    },
    {
      "cell_type": "code",
      "source": [
        "# Question: 30. Implement a program to determine the type of a year (leap or common) and month (30 or 31 days) using\n",
        "# elif statements.\n",
        "\n",
        "year = int(input(\"Enter a year: \"))\n",
        "month = int(input(\"Enter a month (1-12): \"))\n",
        "\n",
        "if (year % 4 == 0 and year % 100 != 0) or (year % 400 == 0):\n",
        "  year_type = \"leap\"\n",
        "else:\n",
        "  year_type = \"common\"\n",
        "\n",
        "if month in (1, 3, 5, 7, 8, 10, 12):\n",
        "  month_days = 31\n",
        "elif month == 2:\n",
        "  if year_type == \"leap\":\n",
        "    month_days = 29\n",
        "  else:\n",
        "    month_days = 28\n",
        "elif month in (4, 6, 9, 11):\n",
        "  month_days = 30\n",
        "else:\n",
        "  month_days = \"Invalid month\"\n",
        "\n",
        "print(year, \"is a\", year_type, \"year.\")\n",
        "if isinstance(month_days, int):\n",
        "  print(\"Month\", month, \"has\", month_days, \"days.\")\n",
        "else:\n",
        "  print(month_days)\n"
      ],
      "metadata": {
        "id": "x-KqMAt1oQDZ",
        "colab": {
          "base_uri": "https://localhost:8080/"
        },
        "outputId": "675afc1d-8219-4e03-ec0c-d4eb952e19ed"
      },
      "execution_count": 29,
      "outputs": [
        {
          "output_type": "stream",
          "name": "stdout",
          "text": [
            "Enter a year: 2020\n",
            "Enter a month (1-12): 6\n",
            "2020 is a leap year.\n",
            "Month 6 has 30 days.\n"
          ]
        }
      ]
    },
    {
      "cell_type": "code",
      "source": [],
      "metadata": {
        "id": "_U0HvaiKokfA"
      },
      "execution_count": null,
      "outputs": []
    },
    {
      "cell_type": "code",
      "source": [],
      "metadata": {
        "id": "2t1yZe9To9hZ"
      },
      "execution_count": null,
      "outputs": []
    },
    {
      "cell_type": "code",
      "source": [],
      "metadata": {
        "id": "nrgqQ4mno9kB"
      },
      "execution_count": null,
      "outputs": []
    },
    {
      "cell_type": "code",
      "source": [],
      "metadata": {
        "id": "0vthyG4Po9np"
      },
      "execution_count": null,
      "outputs": []
    },
    {
      "cell_type": "code",
      "source": [],
      "metadata": {
        "id": "Jyth-N9vo959"
      },
      "execution_count": null,
      "outputs": []
    },
    {
      "cell_type": "markdown",
      "source": [
        "**Basic Level**"
      ],
      "metadata": {
        "id": "35lYvHOXpC84"
      }
    },
    {
      "cell_type": "code",
      "source": [
        "# Question: 1. Write a Python program that checks if a given number is positive, negative, or zero.\n",
        "\n",
        "num = float(input(\"Enter a number: \"))\n",
        "if num > 0:\n",
        "  print(\"Positive number\")\n",
        "elif num == 0:\n",
        "  print(\"Zero\")\n",
        "else:\n",
        "  print(\"Negative number\")\n"
      ],
      "metadata": {
        "id": "_cS0y-N6pTxP"
      },
      "execution_count": null,
      "outputs": []
    },
    {
      "cell_type": "code",
      "source": [
        "# Question: 2. Create a program to determine if a person is eligible to vote based on their age.\n",
        "\n",
        "age = int(input(\"Enter your age: \"))\n",
        "if age >= 18:\n",
        "  print(\"You are eligible to vote\")\n",
        "else:\n",
        "  print(\"You are not eligible to vote\")\n"
      ],
      "metadata": {
        "id": "AsUMx4d4pgeG"
      },
      "execution_count": null,
      "outputs": []
    },
    {
      "cell_type": "code",
      "source": [
        "# Question: 3. Write a program to find the maximum of two given numbers using conditional statements.\n",
        "\n",
        "num1 = float(input(\"Enter the first number: \"))\n",
        "num2 = float(input(\"Enter the second number: \"))\n",
        "\n",
        "if num1 > num2:\n",
        "  print(num1, \"is greater\")\n",
        "elif num2 > num1:\n",
        "  print(num2, \"is greater\")\n",
        "else:\n",
        "  print(\"Both numbers are equal\")\n"
      ],
      "metadata": {
        "id": "5a8XFyPMpmsW"
      },
      "execution_count": null,
      "outputs": []
    },
    {
      "cell_type": "code",
      "source": [
        "# Question: 4. Develop a program that calculates the grade of a student based on their exam score.\n",
        "\n",
        "score = int(input(\"Enter the student's score: \"))\n",
        "\n",
        "if score >= 90:\n",
        "  grade = 'A'\n",
        "elif score >= 80:\n",
        "  grade = 'B'\n",
        "elif score >= 70:\n",
        "  grade = 'C'\n",
        "elif score >= 60:\n",
        "  grade = 'D'\n",
        "else:\n",
        "  grade = 'F'\n",
        "\n",
        "print(\"The student's grade is:\", grade)\n"
      ],
      "metadata": {
        "id": "XxwOVDX8pteO"
      },
      "execution_count": null,
      "outputs": []
    },
    {
      "cell_type": "code",
      "source": [
        "# Question: 5. Create a program that checks if a year is a leap year or not.\n",
        "\n",
        "year = int(input(\"Enter a year: \"))\n",
        "\n",
        "if (year % 4 == 0 and year % 100 != 0) or (year % 400 == 0):\n",
        "  print(year, \"is a leap year.\")\n",
        "else:\n",
        "  print(year, \"is not a leap year.\")\n"
      ],
      "metadata": {
        "id": "byxyyJFKp05f"
      },
      "execution_count": null,
      "outputs": []
    },
    {
      "cell_type": "code",
      "source": [
        "# Question: 6. Write a program to classify a triangle based on its sides' lengths.\n",
        "\n",
        "side1 = float(input(\"Enter the length of the first side: \"))\n",
        "side2 = float(input(\"Enter the length of the second side: \"))\n",
        "side3 = float(input(\"Enter the length of the third side: \"))\n",
        "\n",
        "if side1 == side2 == side3:\n",
        "  print(\"Equilateral triangle\")\n",
        "elif side1 == side2 or side1 == side3 or side2 == side3:\n",
        "  print(\"Isosceles triangle\")\n",
        "else:\n",
        "  print(\"Scalene triangle\")\n"
      ],
      "metadata": {
        "id": "hAPJ7GS0p7Yn"
      },
      "execution_count": null,
      "outputs": []
    },
    {
      "cell_type": "code",
      "source": [
        "# Question: 7. Build a program that determines the largest of three given numbers.\n",
        "\n",
        "num1 = float(input(\"Enter the first number: \"))\n",
        "num2 = float(input(\"Enter the second number: \"))\n",
        "num3 = float(input(\"Enter the third number: \"))\n",
        "\n",
        "if num1 >= num2 and num1 >= num3:\n",
        "  largest = num1\n",
        "elif num2 >= num1 and num2 >= num3:\n",
        "  largest = num2\n",
        "else:\n",
        "  largest = num3\n",
        "\n",
        "print(\"The largest number is\", largest)\n"
      ],
      "metadata": {
        "id": "279yrsnmqED2"
      },
      "execution_count": null,
      "outputs": []
    },
    {
      "cell_type": "code",
      "source": [
        "# Question: 8. Develop a program that checks whether a character is a vowel or a consonant.\n",
        "\n",
        "character = input(\"Enter a character: \")\n",
        "if character in \"aeiouAEIOU\":\n",
        "  print(character, \"is a vowel.\")\n",
        "else:\n",
        "  print(character, \"is a consonant.\")\n"
      ],
      "metadata": {
        "id": "dfYms7z-qLkx"
      },
      "execution_count": null,
      "outputs": []
    },
    {
      "cell_type": "code",
      "source": [
        "# Question: 9. Create a program to calculate the total cost of a shopping cart based on discounts.\n",
        "\n",
        "def calculate_total_cost(cart):\n",
        "  total_cost = 0\n",
        "  for item, price in cart.items():\n",
        "    total_cost += price\n",
        "\n",
        "  if total_cost > 100:\n",
        "    discount = 0.1  # 10% discount\n",
        "    total_cost *= (1 - discount)\n",
        "\n",
        "  return total_cost\n",
        "\n",
        "# Example shopping cart\n",
        "shopping_cart = {\"shirt\": 25.00, \"pants\": 50.00, \"shoes\": 75.00}\n",
        "\n",
        "total_cost = calculate_total_cost(shopping_cart)\n",
        "print(\"Total cost:\", total_cost)\n"
      ],
      "metadata": {
        "id": "pxJqDywgqSW7"
      },
      "execution_count": null,
      "outputs": []
    },
    {
      "cell_type": "code",
      "source": [
        "# Question: 10. Write a program that checks if a given number is even or odd.\n",
        "\n",
        "num = int(input(\"Enter a number: \"))\n",
        "if num % 2 == 0:\n",
        "  print(num, \"is even\")\n",
        "else:\n",
        "  print(num, \"is odd\")\n"
      ],
      "metadata": {
        "id": "gQMtasyeqYwD"
      },
      "execution_count": null,
      "outputs": []
    },
    {
      "cell_type": "code",
      "source": [],
      "metadata": {
        "id": "U77jlCAAqeHh"
      },
      "execution_count": null,
      "outputs": []
    },
    {
      "cell_type": "markdown",
      "source": [
        "**Intermediate Level**"
      ],
      "metadata": {
        "id": "zWbMg_MyqjAe"
      }
    },
    {
      "cell_type": "code",
      "source": [
        "# Question: 11. Write a program that calculates the roots of a quadratic equation .\n",
        "\n",
        "import cmath\n",
        "\n",
        "a = float(input(\"Enter the coefficient a: \"))\n",
        "b = float(input(\"Enter the coefficient b: \"))\n",
        "c = float(input(\"Enter the coefficient c: \"))\n",
        "\n",
        "# calculate the discriminant\n",
        "d = (b**2) - 4*(a*c)\n",
        "\n",
        "# find two solutions\n",
        "sol1 = (-b - cmath.sqrt(d))/(2*a)\n",
        "sol2 = (-b + cmath.sqrt(d))/(2*a)\n",
        "\n",
        "print('The solution are {0} and {1}'.format(sol1,sol2))\n"
      ],
      "metadata": {
        "id": "_fLfbhJDqsIv"
      },
      "execution_count": null,
      "outputs": []
    },
    {
      "cell_type": "code",
      "source": [
        "# Question: 12. Create a program that determines the day of the week based on the day number (1-7).\n",
        "\n",
        "day_num = int(input(\"Enter a number (1-7) for the day of the week: \"))\n",
        "\n",
        "if day_num == 1:\n",
        "  day = \"Monday\"\n",
        "elif day_num == 2:\n",
        "  day = \"Tuesday\"\n",
        "elif day_num == 3:\n",
        "  day = \"Wednesday\"\n",
        "elif day_num == 4:\n",
        "  day = \"Thursday\"\n",
        "elif day_num == 5:\n",
        "  day = \"Friday\"\n",
        "elif day_num == 6:\n",
        "  day = \"Saturday\"\n",
        "elif day_num == 7:\n",
        "  day = \"Sunday\"\n",
        "else:\n",
        "  day = \"Invalid number\"\n",
        "\n",
        "print(day)\n"
      ],
      "metadata": {
        "id": "35RB16Qgqzj6"
      },
      "execution_count": null,
      "outputs": []
    },
    {
      "cell_type": "code",
      "source": [
        "# Question: 13. Develop a program that calculates the factorial of a given number using recursion.\n",
        "\n",
        "def factorial(n):\n",
        "  if n == 0:\n",
        "    return 1\n",
        "  else:\n",
        "    return n * factorial(n-1)\n",
        "\n",
        "# Example usage\n",
        "num = int(input(\"Enter a non-negative integer: \"))\n",
        "if num < 0:\n",
        "  print(\"Factorial is not defined for negative numbers.\")\n",
        "else:\n",
        "  print(\"The factorial of\", num, \"is\", factorial(num))\n"
      ],
      "metadata": {
        "id": "0z0Ttt5Kq8bh"
      },
      "execution_count": null,
      "outputs": []
    },
    {
      "cell_type": "code",
      "source": [
        "# Question: 14. Write a program to find the largest among three numbers without using the `max()` function.\n",
        "\n",
        "num1 = float(input(\"Enter the first number: \"))\n",
        "num2 = float(input(\"Enter the second number: \"))\n",
        "num3 = float(input(\"Enter the third number: \"))\n",
        "\n",
        "if num1 >= num2:\n",
        "  if num1 >= num3:\n",
        "    largest = num1\n",
        "  else:\n",
        "    largest = num3\n",
        "else:\n",
        "  if num2 >= num3:\n",
        "    largest = num2\n",
        "  else:\n",
        "    largest = num3\n",
        "\n",
        "print(\"The largest number is\", largest)\n"
      ],
      "metadata": {
        "id": "t38pNJ3nrHkd"
      },
      "execution_count": null,
      "outputs": []
    },
    {
      "cell_type": "code",
      "source": [
        "# Question: 15. Create a program that simulates a basic ATM transaction menu.\n",
        "\n",
        "print(\"Welcome to the ATM!\")\n",
        "balance = 1000  # Initial balance\n",
        "\n",
        "while True:\n",
        "  print(\"\\nChoose an option:\")\n",
        "  print(\"1. Check Balance\")\n",
        "  print(\"2. Deposit\")\n",
        "  print(\"3. Withdraw\")\n",
        "  print(\"4. Exit\")\n",
        "\n",
        "  choice = int(input(\"Enter your choice: \"))\n",
        "\n",
        "  if choice == 1:\n",
        "    print(\"Your balance is:\", balance)\n",
        "  elif choice == 2:\n",
        "    amount = float(input(\"Enter amount to deposit: \"))\n",
        "    balance += amount\n",
        "    print(\"Deposit successful. New balance:\", balance)\n",
        "  elif choice == 3:\n",
        "    amount = float(input(\"Enter amount to withdraw: \"))\n",
        "    if amount > balance:\n",
        "      print(\"Insufficient balance.\")\n",
        "    else:\n",
        "      balance -= amount\n",
        "      print(\"Withdrawal successful. New balance:\", balance)\n",
        "  elif choice == 4:\n",
        "    print(\"Thank you for using the ATM!\")\n",
        "    break\n",
        "  else:\n",
        "    print(\"Invalid choice.\")\n"
      ],
      "metadata": {
        "id": "SrHT2rg2rRm5",
        "colab": {
          "base_uri": "https://localhost:8080/"
        },
        "outputId": "f33464ab-bf89-4363-e15e-0267450eb0da"
      },
      "execution_count": 31,
      "outputs": [
        {
          "output_type": "stream",
          "name": "stdout",
          "text": [
            "Welcome to the ATM!\n",
            "\n",
            "Choose an option:\n",
            "1. Check Balance\n",
            "2. Deposit\n",
            "3. Withdraw\n",
            "4. Exit\n",
            "Enter your choice: 3\n",
            "Enter amount to withdraw: 2000\n",
            "Insufficient balance.\n",
            "\n",
            "Choose an option:\n",
            "1. Check Balance\n",
            "2. Deposit\n",
            "3. Withdraw\n",
            "4. Exit\n",
            "Enter your choice: 4\n",
            "Thank you for using the ATM!\n"
          ]
        }
      ]
    },
    {
      "cell_type": "code",
      "source": [
        "# 16. Build a program that checks if a given string is a palindrome or not.\n",
        "def is_palindrome(s):\n",
        "  s = s.lower()  # Case-insensitive check\n",
        "  return s == s[::-1]\n",
        "\n",
        "string = input(\"Enter a string: \")\n",
        "if is_palindrome(string):\n",
        "  print(string, \"is a palindrome.\")\n",
        "else:\n",
        "  print(string, \"is not a palindrome.\")"
      ],
      "metadata": {
        "colab": {
          "base_uri": "https://localhost:8080/"
        },
        "id": "cWHSUWosPbwa",
        "outputId": "a951f556-9895-43ee-f85a-7966086c9a45"
      },
      "execution_count": 32,
      "outputs": [
        {
          "output_type": "stream",
          "name": "stdout",
          "text": [
            "Enter a string: suus\n",
            "suus is a palindrome.\n"
          ]
        }
      ]
    },
    {
      "cell_type": "code",
      "source": [
        "# 17. Write a program that calculates the average of a list of numbers, excluding the smallest and largest values.\n",
        "def average_excluding_extremes(numbers):\n",
        "  if len(numbers) < 3:\n",
        "    return 0  # Cannot exclude extremes if less than 3 numbers\n",
        "  else:\n",
        "    numbers.sort()\n",
        "    return sum(numbers[1:-1]) / (len(numbers) - 2)\n",
        "\n",
        "numbers = [10, 20, 30, 40, 50]\n",
        "avg = average_excluding_extremes(numbers)\n",
        "print(\"Average excluding smallest and largest:\", avg)\n"
      ],
      "metadata": {
        "colab": {
          "base_uri": "https://localhost:8080/"
        },
        "id": "t8T9K9FSPcch",
        "outputId": "34b52c68-47a5-4b26-ee28-affa80ea15b2"
      },
      "execution_count": 33,
      "outputs": [
        {
          "output_type": "stream",
          "name": "stdout",
          "text": [
            "Average excluding smallest and largest: 30.0\n"
          ]
        }
      ]
    },
    {
      "cell_type": "code",
      "source": [
        "#18. Develop a program that converts a given temperature from Celsius to Fahrenheit.\n",
        "celsius = float(input(\"Enter temperature in Celsius: \"))\n",
        "fahrenheit = (celsius * 9/5) + 32\n",
        "print(\"Temperature in Fahrenheit:\", fahrenheit)"
      ],
      "metadata": {
        "colab": {
          "base_uri": "https://localhost:8080/"
        },
        "id": "yXFp5ZEDPcve",
        "outputId": "1347ad61-aa8a-48cb-d542-bc7ecab6802c"
      },
      "execution_count": 34,
      "outputs": [
        {
          "output_type": "stream",
          "name": "stdout",
          "text": [
            "Enter temperature in Celsius: 45\n",
            "Temperature in Fahrenheit: 113.0\n"
          ]
        }
      ]
    },
    {
      "cell_type": "code",
      "source": [
        "# 19. Create a program that simulates a basic calculator.\n",
        "def calculator():\n",
        "  num1 = float(input(\"Enter first number: \"))\n",
        "  op = input(\"Enter operator (+, -, *, /): \")\n",
        "  num2 = float(input(\"Enter second number: \"))\n",
        "\n",
        "  if op == \"+\":\n",
        "    result = num1 + num2\n",
        "  elif op == \"-\":\n",
        "    result = num1 - num2\n",
        "  elif op == \"*\":\n",
        "    result = num1 * num2\n",
        "  elif op == \"/\":\n",
        "    if num2 == 0:\n",
        "      return \"Division by zero error!\"\n",
        "    else:\n",
        "      result = num1 / num2\n",
        "  else:\n",
        "    return \"Invalid operator!\"\n",
        "\n",
        "  return result\n",
        "\n",
        "print(calculator())\n"
      ],
      "metadata": {
        "id": "B-YtKfxhPdAB"
      },
      "execution_count": null,
      "outputs": []
    },
    {
      "cell_type": "markdown",
      "source": [
        "**Advance Level**"
      ],
      "metadata": {
        "id": "3EY1DNAjrkp5"
      }
    },
    {
      "cell_type": "code",
      "source": [
        "# Question: 21. Create a program that calculates the income tax based on the user's income and tax brackets.\n",
        "\n",
        "def calculate_income_tax(income):\n",
        "  tax = 0\n",
        "\n",
        "  if income <= 10000:\n",
        "    tax = 0\n",
        "  elif income <= 40000:\n",
        "    tax = (income - 10000) * 0.10\n",
        "  elif income <= 85000:\n",
        "    tax = 3000 + (income - 40000) * 0.12\n",
        "  elif income <= 163000:\n",
        "    tax = 8400 + (income - 85000) * 0.22\n",
        "  elif income <= 207350:\n",
        "    tax = 25550 + (income - 163000) * 0.24\n",
        "  elif income <= 518400:\n",
        "    tax = 35750 + (income - 207350) * 0.32\n",
        "  else:\n",
        "    tax = 134650 + (income - 518400) * 0.37\n",
        "\n",
        "  return tax\n",
        "\n",
        "income = float(input(\"Enter your income: \"))\n",
        "tax = calculate_income_tax(income)\n",
        "print(\"Your income tax is:\", tax)\n"
      ],
      "metadata": {
        "id": "bQYkyJnOrsFg"
      },
      "execution_count": null,
      "outputs": []
    },
    {
      "cell_type": "code",
      "source": [
        "# Question: 22. Write a program that simulates a rock-paper-scissors game\n",
        "\n",
        "import random\n",
        "\n",
        "def rock_paper_scissors():\n",
        "  \"\"\"Simulates a rock-paper-scissors game against the computer.\"\"\"\n",
        "\n",
        "  user_choice = input(\"Enter your choice (rock, paper, or scissors): \")\n",
        "  possible_actions = [\"rock\", \"paper\", \"scissors\"]\n",
        "  computer_choice = random.choice(possible_actions)\n",
        "\n",
        "  print(f\"You chose {user_choice}, computer chose {computer_choice}.\\n\")\n",
        "\n",
        "  if user_choice == computer_choice:\n",
        "    print(f\"Both players selected {user_choice}. It's a tie!\")\n",
        "  elif user_choice == \"rock\":\n",
        "    if computer_choice == \"scissors\":\n",
        "      print(\"Rock smashes scissors! You win!\")\n",
        "    else:\n",
        "      print(\"Paper covers rock! You lose.\")\n",
        "  elif user_choice == \"paper\":\n",
        "    if computer_choice == \"rock\":\n",
        "      print(\"Paper covers rock! You win!\")\n",
        "    else:\n",
        "      print(\"Scissors cuts paper! You lose.\")\n",
        "  elif user_choice == \"scissors\":\n",
        "    if computer_choice == \"paper\":\n",
        "      print(\"Scissors cuts paper! You win!\")\n",
        "    else:\n",
        "      print(\"Rock smashes scissors! You lose.\")\n",
        "  else:\n",
        "    print(\"Invalid choice. Please try again.\")\n",
        "\n",
        "rock_paper_scissors()\n"
      ],
      "metadata": {
        "id": "iVai25v4scu8"
      },
      "execution_count": null,
      "outputs": []
    },
    {
      "cell_type": "code",
      "source": [
        "# Question: 23. Develop a program that generates a random password based on user preferences (length, complexity).\n",
        "\n",
        "import random\n",
        "\n",
        "def generate_password(length, complexity):\n",
        "  \"\"\"Generates a random password.\n",
        "\n",
        "  Args:\n",
        "    length: The desired length of the password.\n",
        "    complexity: The complexity level ('low', 'medium', 'high').\n",
        "\n",
        "  Returns:\n",
        "    A randomly generated password.\n",
        "  \"\"\"\n",
        "\n",
        "  if complexity == 'low':\n",
        "    characters = \"abcdefghijklmnopqrstuvwxyz\"\n",
        "  elif complexity == 'medium':\n",
        "    characters = \"abcdefghijklmnopqrstuvwxyz0123456789\"\n",
        "  elif complexity == 'high':\n",
        "    characters = \"abcdefghijklmnopqrstuvwxyz0123456789!@#$%^&*()\"\n",
        "  else:\n",
        "    return \"Invalid complexity level.\"\n",
        "\n",
        "  password = ''.join(random.choice(characters) for i in range(length))\n",
        "  return password\n",
        "\n",
        "# Example usage\n",
        "length = int(input(\"Enter desired password length: \"))\n",
        "complexity = input(\"Enter complexity level (low, medium, high): \")\n",
        "\n",
        "password = generate_password(length, complexity)\n",
        "print(\"Generated password:\", password)\n"
      ],
      "metadata": {
        "id": "ph1N-SWYswgQ"
      },
      "execution_count": null,
      "outputs": []
    },
    {
      "cell_type": "code",
      "source": [
        "# Question: 24. Create a program that implements a simple text-based adventure game with branching scenarios.\n",
        "\n",
        "def adventure_game():\n",
        "  \"\"\"A simple text-based adventure game.\"\"\"\n",
        "\n",
        "  print(\"Welcome to the Adventure!\")\n",
        "  print(\"You find yourself in a dark forest. You can go left or right.\")\n",
        "\n",
        "  choice = input(\"Which way do you go? (left/right): \")\n",
        "\n",
        "  if choice == \"left\":\n",
        "    print(\"You encounter a fierce dragon!\")\n",
        "    fight_or_flee = input(\"Do you fight or flee? (fight/flee): \")\n",
        "    if fight_or_flee == \"fight\":\n",
        "      print(\"You bravely fight the dragon and emerge victorious!\")\n",
        "    else:\n",
        "      print(\"You try to flee, but the dragon catches you. Game Over.\")\n",
        "  elif choice == \"right\":\n",
        "    print(\"You find a hidden treasure chest!\")\n",
        "    open_or_leave = input(\"Do you open it or leave it? (open/leave): \")\n",
        "    if open_or_leave == \"open\":\n",
        "      print(\"You open the chest and find a mountain of gold! You win!\")\n",
        "    else:\n",
        "      print(\"You leave the chest and continue your journey.\")\n",
        "  else:\n",
        "    print(\"Invalid choice. Game Over.\")\n",
        "\n",
        "adventure_game()\n"
      ],
      "metadata": {
        "id": "kxzOLyxXs7oG"
      },
      "execution_count": null,
      "outputs": []
    },
    {
      "cell_type": "code",
      "source": [
        "# Question: 25. Build a program that solves a linear equation  for x, considering different cases.\n",
        "\n",
        "def solve_linear_equation(a, b):\n",
        "  \"\"\"Solves the linear equation ax + b = 0 for x.\n",
        "\n",
        "  Args:\n",
        "    a: The coefficient of x.\n",
        "    b: The constant term.\n",
        "\n",
        "  Returns:\n",
        "    The solution for x, or a message indicating no solution or infinite solutions.\n",
        "  \"\"\"\n",
        "  if a == 0:\n",
        "    if b == 0:\n",
        "      return \"Infinite solutions (equation is 0 = 0)\"\n",
        "    else:\n",
        "      return \"No solution (equation is inconsistent)\"\n",
        "  else:\n",
        "    return -b / a\n",
        "\n",
        "# Get input from the user\n",
        "a = float(input(\"Enter the coefficient a: \"))\n",
        "b = float(input(\"Enter the constant term b: \"))\n",
        "\n",
        "# Solve the equation and print the result\n",
        "solution = solve_linear_equation(a, b)\n",
        "print(solution)\n"
      ],
      "metadata": {
        "id": "Y0yYYUCutHHe"
      },
      "execution_count": null,
      "outputs": []
    },
    {
      "cell_type": "code",
      "source": [
        "# Question: 26. Write a program that simulates a basic quiz game with multiple-choice questions and scoring.\n",
        "\n",
        "def quiz_game():\n",
        "  score = 0\n",
        "  questions = [\n",
        "      {\n",
        "          \"question\": \"What is the capital of France?\",\n",
        "          \"options\": [\"Berlin\", \"Paris\", \"Rome\", \"Madrid\"],\n",
        "          \"answer\": \"Paris\"\n",
        "      },\n",
        "      {\n",
        "          \"question\": \"Who painted the Mona Lisa?\",\n",
        "          \"options\": [\"Michelangelo\", \"Leonardo da Vinci\", \"Raphael\", \"Donatello\"],\n",
        "          \"answer\": \"Leonardo da Vinci\"\n",
        "      },\n",
        "      {\n",
        "          \"question\": \"What is the highest mountain in the world?\",\n",
        "          \"options\": [\"Mount Kilimanjaro\", \"Mount Everest\", \"Kangchenjunga\", \"Lhotse\"],\n",
        "          \"answer\": \"Mount Everest\"\n",
        "      }\n",
        "  ]\n",
        "\n",
        "  for question in questions:\n",
        "    print(question[\"question\"])\n",
        "    for i, option in enumerate(question[\"options\"]):\n",
        "      print(f\"{i+1}. {option}\")\n",
        "    answer = input(\"Your answer (1-4): \")\n",
        "    if question[\"options\"][int(answer)-1] == question[\"answer\"]:\n",
        "      score += 1\n",
        "      print(\"Correct!\")\n",
        "    else:\n",
        "      print(\"Incorrect.\")\n",
        "\n",
        "  print(f\"\\nYou got {score} out of {len(questions)} questions correct.\")\n",
        "\n",
        "quiz_game()\n"
      ],
      "metadata": {
        "id": "XBwBV-4ltRLs"
      },
      "execution_count": null,
      "outputs": []
    },
    {
      "cell_type": "code",
      "source": [
        "# Question: 27. Develop a program that determines whether a given year is a prime number or not.\n",
        "\n",
        "def is_prime_year(year):\n",
        "  \"\"\"\n",
        "  Determines if a year is a prime number.\n",
        "\n",
        "  Args:\n",
        "    year: The year to check.\n",
        "\n",
        "  Returns:\n",
        "    True if the year is prime, False otherwise.\n",
        "  \"\"\"\n",
        "  if year <= 1:\n",
        "    return False\n",
        "  if year <= 3:\n",
        "    return True\n",
        "  if year % 2 == 0 or year % 3 == 0:\n",
        "    return False\n",
        "  i = 5\n",
        "  while i * i <= year:\n",
        "    if year % i == 0 or year % (i + 2) == 0:\n",
        "      return False\n",
        "    i = i + 6\n",
        "  return True\n",
        "\n",
        "# Get input from the user\n",
        "year = int(input(\"Enter a year: \"))\n",
        "\n",
        "# Check if the year is prime and print the result\n",
        "if is_prime_year(year):\n",
        "  print(year, \"is a prime year.\")\n",
        "else:\n",
        "  print(year, \"is not a prime year.\")\n"
      ],
      "metadata": {
        "id": "Lz-3gFeItkHy"
      },
      "execution_count": null,
      "outputs": []
    },
    {
      "cell_type": "code",
      "source": [
        "# Question: 28. Create a program that sorts three numbers in ascending order using conditional statements.\n",
        "\n",
        "num1 = float(input(\"Enter the first number: \"))\n",
        "num2 = float(input(\"Enter the second number: \"))\n",
        "num3 = float(input(\"Enter the third number: \"))\n",
        "\n",
        "if num1 <= num2 and num1 <= num3:\n",
        "  if num2 <= num3:\n",
        "    print(num1, num2, num3)\n",
        "  else:\n",
        "    print(num1, num3, num2)\n",
        "elif num2 <= num1 and num2 <= num3:\n",
        "  if num1 <= num3:\n",
        "    print(num2, num1, num3)\n",
        "  else:\n",
        "    print(num2, num3, num1)\n",
        "else:\n",
        "  if num1 <= num2:\n",
        "    print(num3, num1, num2)\n",
        "  else:\n",
        "    print(num3, num2, num1)\n"
      ],
      "metadata": {
        "id": "kKwRA3UFttXR"
      },
      "execution_count": null,
      "outputs": []
    },
    {
      "cell_type": "code",
      "source": [
        "# Question: 29. Build a program that determines the roots of a quartic equation using numerical methods.\n",
        "\n",
        "import numpy as np\n",
        "\n",
        "def quartic_roots(a, b, c, d, e):\n",
        "  \"\"\"\n",
        "  Finds the roots of a quartic equation of the form ax^4 + bx^3 + cx^2 + dx + e = 0\n",
        "  using the numpy library.\n",
        "\n",
        "  Args:\n",
        "    a: Coefficient of x^4\n",
        "    b: Coefficient of x^3\n",
        "    c: Coefficient of x^2\n",
        "    d: Coefficient of x\n",
        "    e: Constant term\n",
        "\n",
        "  Returns:\n",
        "    A numpy array containing the roots of the equation.\n",
        "  \"\"\"\n",
        "  coefficients = [a, b, c, d, e]\n",
        "  roots = np.roots(coefficients)\n",
        "  return roots\n",
        "\n",
        "# Get coefficients from the user\n",
        "a = float(input(\"Enter the coefficient of x^4: \"))\n",
        "b = float(input(\"Enter the coefficient of x^3: \"))\n",
        "c = float(input(\"Enter the coefficient of x^2: \"))\n",
        "d = float(input(\"Enter the coefficient of x: \"))\n",
        "e = float(input(\"Enter the constant term: \"))\n",
        "\n",
        "# Calculate and print the roots\n",
        "roots = quartic_roots(a, b, c, d, e)\n",
        "print(\"The roots of the quartic equation are:\", roots)\n"
      ],
      "metadata": {
        "id": "GT_vHr7vt4fJ"
      },
      "execution_count": null,
      "outputs": []
    },
    {
      "cell_type": "code",
      "source": [
        "# Question: 30. Write a program that calculates the BMI (Body Mass Index) and provides health recommendations based\n",
        "# on the user's input.\n",
        "\n",
        "def calculate_bmi(weight, height):\n",
        "  \"\"\"Calculates BMI.\"\"\"\n",
        "  return weight / (height ** 2)\n",
        "\n",
        "def get_bmi_category(bmi):\n",
        "  \"\"\"Returns BMI category and health recommendations.\"\"\"\n",
        "  if bmi < 18.5:\n",
        "    return \"Underweight\", \"Consider consulting a doctor or nutritionist to discuss ways to gain weight safely.\"\n",
        "  elif 18.5 <= bmi < 25:\n",
        "    return \"Normal weight\", \"Maintain a balanced diet and regular exercise to stay healthy.\"\n",
        "  elif 25 <= bmi < 30:\n",
        "    return \"Overweight\", \"Consider losing weight through diet and exercise to reduce health risks.\"\n",
        "  else:\n",
        "    return \"Obese\", \"It's important to consult a doctor or nutritionist to discuss weight management and potential health concerns.\"\n",
        "\n",
        "# Get user input\n",
        "weight = float(input(\"Enter your weight in kilograms: \"))\n",
        "height = float(input(\"Enter your height in meters: \"))\n",
        "\n",
        "# Calculate BMI\n",
        "bmi = calculate_bmi(weight, height)\n",
        "\n",
        "# Get BMI category and recommendations\n",
        "category, recommendations = get_bmi_category(bmi)\n",
        "\n",
        "# Print results\n",
        "print(f\"Your BMI is: {bmi:.2f}\")\n",
        "print(f\"Category: {category}\")\n",
        "print(f\"Recommendations: {recommendations}\")\n"
      ],
      "metadata": {
        "id": "eQN7mZ4_uELk"
      },
      "execution_count": null,
      "outputs": []
    },
    {
      "cell_type": "code",
      "source": [],
      "metadata": {
        "id": "Vt6fdpNDuUh-"
      },
      "execution_count": null,
      "outputs": []
    },
    {
      "cell_type": "code",
      "source": [],
      "metadata": {
        "id": "mFmUGuf5uW9A"
      },
      "execution_count": null,
      "outputs": []
    },
    {
      "cell_type": "markdown",
      "source": [
        "# **Challenge Level**"
      ],
      "metadata": {
        "id": "7vWNmhVLuXsb"
      }
    },
    {
      "cell_type": "code",
      "source": [
        "# Question: 31. Create a program that validates a password based on complexity rules (length, characters, etc.).\n",
        "\n",
        "import re\n",
        "\n",
        "def validate_password(password):\n",
        "  \"\"\"Validates a password based on complexity rules.\n",
        "\n",
        "  Args:\n",
        "    password: The password to validate.\n",
        "\n",
        "  Returns:\n",
        "    True if the password meets the complexity rules, False otherwise.\n",
        "  \"\"\"\n",
        "\n",
        "  if len(password) < 8:\n",
        "    return False\n",
        "\n",
        "  if not re.search(\"[a-z]\", password):\n",
        "    return False\n",
        "\n",
        "  if not re.search(\"[A-Z]\", password):\n",
        "    return False\n",
        "\n",
        "  if not re.search(\"[0-9]\", password):\n",
        "    return False\n",
        "\n",
        "  if not re.search(\"[!@#$%^&*()_+]\", password):\n",
        "    return False\n",
        "\n",
        "  return True\n",
        "\n",
        "# Get password input from the user\n",
        "password = input(\"Enter a password: \")\n",
        "\n",
        "# Validate the password and print the result\n",
        "if validate_password(password):\n",
        "  print(\"Password is valid.\")\n",
        "else:\n",
        "  print(\"Password is not valid.\")\n"
      ],
      "metadata": {
        "id": "c1YIh1SauiNm"
      },
      "execution_count": null,
      "outputs": []
    },
    {
      "cell_type": "code",
      "source": [
        "# Question: 32. Develop a program that performs matrix addition and subtraction based on user input.\n",
        "\n",
        "def get_matrix(rows, cols):\n",
        "  \"\"\"Gets a matrix input from the user.\"\"\"\n",
        "  matrix = []\n",
        "  print(\"Enter matrix elements row by row:\")\n",
        "  for i in range(rows):\n",
        "    row = []\n",
        "    for j in range(cols):\n",
        "      row.append(int(input(f\"Enter element [{i+1},{j+1}]: \")))\n",
        "    matrix.append(row)\n",
        "  return matrix\n",
        "\n",
        "def matrix_addition(matrix1, matrix2):\n",
        "  \"\"\"Adds two matrices.\"\"\"\n",
        "  result = []\n",
        "  for i in range(len(matrix1)):\n",
        "    row = []\n",
        "    for j in range(len(matrix1[0])):\n",
        "      row.append(matrix1[i][j] + matrix2[i][j])\n",
        "    result.append(row)\n",
        "  return result\n",
        "\n",
        "def matrix_subtraction(matrix1, matrix2):\n",
        "  \"\"\"Subtracts two matrices.\"\"\"\n",
        "  result = []\n",
        "  for i in range(len(matrix1)):\n",
        "    row = []\n",
        "    for j in range(len(matrix1[0])):\n",
        "      row.append(matrix1[i][j] - matrix2[i][j])\n",
        "    result.append(row)\n",
        "  return result\n",
        "\n",
        "# Get matrix dimensions from the user\n",
        "rows = int(input(\"Enter number of rows: \"))\n",
        "cols = int(input(\"Enter number of columns: \"))\n",
        "\n",
        "# Get matrices from the user\n",
        "print(\"Enter the first matrix:\")\n",
        "matrix1 = get_matrix(rows, cols)\n",
        "print(\"Enter the second matrix:\")\n",
        "matrix2 = get_matrix(rows, cols)\n",
        "\n",
        "# Perform matrix addition and subtraction\n",
        "addition_result = matrix_addition(matrix1, matrix2)\n",
        "subtraction_result = matrix_subtraction(matrix1, matrix2)\n",
        "\n",
        "# Print the results\n",
        "print(\"Matrix Addition Result:\")\n",
        "for row in addition_result:\n",
        "  print(row)\n",
        "\n",
        "print(\"Matrix Subtraction Result:\")\n",
        "for row in subtraction_result:\n",
        "  print(row)\n"
      ],
      "metadata": {
        "id": "SZyZTvzMuiWW"
      },
      "execution_count": null,
      "outputs": []
    },
    {
      "cell_type": "code",
      "source": [
        "# Question: 33. Write a program that calculates the greatest common divisor (GCD) of two numbers using the Euclidean\n",
        "# algorithm.\n",
        "\n",
        "def gcd(a, b):\n",
        "  while b:\n",
        "    a, b = b, a % b\n",
        "  return a\n",
        "\n",
        "# Get input from the user\n",
        "num1 = int(input(\"Enter the first number: \"))\n",
        "num2 = int(input(\"Enter the second number: \"))\n",
        "\n",
        "# Calculate and print the GCD\n",
        "result = gcd(num1, num2)\n",
        "print(\"The GCD of\", num1, \"and\", num2, \"is\", result)\n"
      ],
      "metadata": {
        "id": "TOjrLrCPu1E9"
      },
      "execution_count": null,
      "outputs": []
    },
    {
      "cell_type": "code",
      "source": [
        "# Question: 34. Build a program that performs matrix multiplication using nested loops and conditional statements.\n",
        "\n",
        "def get_matrix(rows, cols):\n",
        "  \"\"\"Gets a matrix input from the user.\"\"\"\n",
        "  matrix = []\n",
        "  print(\"Enter matrix elements row by row:\")\n",
        "  for i in range(rows):\n",
        "    row = []\n",
        "    for j in range(cols):\n",
        "      row.append(int(input(f\"Enter element [{i+1},{j+1}]: \")))\n",
        "    matrix.append(row)\n",
        "  return matrix\n",
        "\n",
        "def matrix_multiplication(matrix1, matrix2):\n",
        "  \"\"\"Performs matrix multiplication using nested loops.\"\"\"\n",
        "  result = [[0 for _ in range(len(matrix2[0]))] for _ in range(len(matrix1))]\n",
        "  for i in range(len(matrix1)):\n",
        "    for j in range(len(matrix2[0])):\n",
        "      for k in range(len(matrix2)):\n",
        "        result[i][j] += matrix1[i][k] * matrix2[k][j]\n",
        "  return result\n",
        "\n",
        "# Get matrix dimensions from the user\n",
        "rows1 = int(input(\"Enter number of rows for the first matrix: \"))\n",
        "cols1 = int(input(\"Enter number of columns for the first matrix: \"))\n",
        "rows2 = int(input(\"Enter number of rows for the second matrix: \"))\n",
        "cols2 = int(input(\"Enter number of columns for the second matrix: \"))\n",
        "\n",
        "# Check if matrix multiplication is possible\n",
        "if cols1 != rows2:\n",
        "  print(\"Matrix multiplication not possible. Number of columns in the first matrix must be equal to the number of rows in the second matrix.\")\n",
        "else:\n",
        "  # Get matrices from the user\n",
        "  print(\"Enter the first matrix:\")\n",
        "  matrix1 = get_matrix(rows1, cols1)\n",
        "  print(\"Enter the second matrix:\")\n",
        "  matrix2 = get_matrix(rows2, cols2)\n",
        "\n",
        "  # Perform matrix multiplication\n",
        "  result = matrix_multiplication(matrix1, matrix2)\n",
        "\n",
        "  # Print the result\n",
        "  print(\"Matrix Multiplication Result:\")\n",
        "  for row in result:\n",
        "    print(row)\n"
      ],
      "metadata": {
        "id": "lsgfjneAu9CA"
      },
      "execution_count": null,
      "outputs": []
    },
    {
      "cell_type": "code",
      "source": [
        "# Question: 35. Create a program that simulates a basic text-based tic-tac-toe game.\n",
        "\n",
        "def print_board(board):\n",
        "  \"\"\"Prints the tic-tac-toe board.\"\"\"\n",
        "  print(\"-------------\")\n",
        "  for row in board:\n",
        "    print(\"|\", end=\"\")\n",
        "    for cell in row:\n",
        "      print(f\" {cell} |\", end=\"\")\n",
        "    print(\"\\n-------------\")\n",
        "\n",
        "def get_player_move(board):\n",
        "  \"\"\"Gets a valid player move.\"\"\"\n",
        "  while True:\n",
        "    try:\n",
        "      row, col = map(int, input(\"Enter your move (row, column): \").split(\",\"))\n",
        "      if 0 <= row <= 2 and 0 <= col <= 2 and board[row][col] == \" \":\n",
        "        return row, col\n",
        "      else:\n",
        "        print(\"Invalid move. Try again.\")\n",
        "    except ValueError:\n",
        "      print(\"Invalid input. Enter row and column separated by a comma.\")\n",
        "\n",
        "def check_win(board, player):\n",
        "  \"\"\"Checks if the given player has won.\"\"\"\n",
        "  # Check rows\n",
        "  for row in board:\n",
        "    if all(cell == player for cell in row):\n",
        "      return True\n",
        "  # Check columns\n",
        "  for col in range(3):\n",
        "    if all(board[row][col] == player for row in range(3)):\n",
        "      return True\n",
        "  # Check diagonals\n",
        "  if (board[0][0] == player and board[1][1] == player and board[2][2] == player) or \\\n",
        "     (board[0][2] == player and board[1][1] == player and board[2][0] == player):\n",
        "    return True\n",
        "  return False\n",
        "\n",
        "def tic_tac_toe():\n",
        "  \"\"\"Simulates a tic-tac-toe game.\"\"\"\n",
        "  board = [[\" \" for _ in range(3)] for _ in range(3)]\n",
        "  current_player = \"X\"\n",
        "\n",
        "  while True:\n",
        "    print_board(board)\n",
        "    row, col = get_player_move(board)\n",
        "    board[row][col] = current_player\n",
        "\n",
        "    if check_win(board, current_player):\n",
        "      print_board(board)\n",
        "      print(f\"Player {current_player} wins!\")\n",
        "      break\n",
        "\n",
        "    if all(cell != \" \" for row in board for cell in row):\n",
        "      print_board(board)\n",
        "      print(\"It's a tie!\")\n",
        "      break\n",
        "\n",
        "    current_player = \"O\" if current_player == \"X\" else \"X\"\n",
        "\n",
        "tic_tac_toe()\n"
      ],
      "metadata": {
        "id": "CpwqhG19vHmI"
      },
      "execution_count": null,
      "outputs": []
    },
    {
      "cell_type": "code",
      "source": [
        "# Question: 36. Write a program that generates Fibonacci numbers up to a specified term using iterative methods\n",
        "\n",
        "def fibonacci_iterative(n):\n",
        "  if n <= 0:\n",
        "    return []\n",
        "  elif n == 1:\n",
        "    return [0]\n",
        "  else:\n",
        "    fib_sequence = [0, 1]\n",
        "    while len(fib_sequence) < n:\n",
        "      next_fib = fib_sequence[-1] + fib_sequence[-2]\n",
        "      fib_sequence.append(next_fib)\n",
        "    return fib_sequence\n",
        "\n",
        "# Get input from the user\n",
        "num_terms = int(input(\"Enter the number of terms: \"))\n",
        "\n",
        "# Generate and print Fibonacci numbers\n",
        "fib_numbers = fibonacci_iterative(num_terms)\n",
        "print(\"Fibonacci numbers:\", fib_numbers)\n"
      ],
      "metadata": {
        "id": "OiVPW8gyvdGX"
      },
      "execution_count": null,
      "outputs": []
    },
    {
      "cell_type": "code",
      "source": [
        "# Question: 37. Develop a program that calculates the nth term of the Fibonacci sequence using memoization.\n",
        "\n",
        "def fibonacci_memoization(n, memo={}):\n",
        "  if n in memo:\n",
        "    return memo[n]\n",
        "  if n <= 1:\n",
        "    return n\n",
        "  memo[n] = fibonacci_memoization(n-1, memo) + fibonacci_memoization(n-2, memo)\n",
        "  return memo[n]\n",
        "\n",
        "# Get input from the user\n",
        "num_terms = int(input(\"Enter the value of n: \"))\n",
        "\n",
        "# Calculate and print the nth Fibonacci number\n",
        "fib_number = fibonacci_memoization(num_terms)\n",
        "print(\"The\", num_terms, \"th Fibonacci number is:\", fib_number)\n"
      ],
      "metadata": {
        "id": "8oaHwegVvmJf"
      },
      "execution_count": null,
      "outputs": []
    },
    {
      "cell_type": "code",
      "source": [
        "# Question: 38. Create a program that generates a calendar for a given month and year using conditional statements\n",
        "\n",
        "def is_leap_year(year):\n",
        "  if year % 4 == 0:\n",
        "    if year % 100 == 0:\n",
        "      if year % 400 == 0:\n",
        "        return True\n",
        "      else:\n",
        "        return False\n",
        "    else:\n",
        "      return True\n",
        "  else:\n",
        "    return False\n",
        "\n",
        "def get_days_in_month(month, year):\n",
        "  if month in [1, 3, 5, 7, 8, 10, 12]:\n",
        "    return 31\n",
        "  elif month in [4, 6, 9, 11]:\n",
        "    return 30\n",
        "  elif month == 2:\n",
        "    if is_leap_year(year):\n",
        "      return 29\n",
        "    else:\n",
        "      return 28\n",
        "\n",
        "def generate_calendar(month, year):\n",
        "  month_names = [\"January\", \"February\", \"March\", \"April\", \"May\", \"June\",\n",
        "                 \"July\", \"August\", \"September\", \"October\", \"November\", \"December\"]\n",
        "  days_of_week = [\"Sun\", \"Mon\", \"Tue\", \"Wed\", \"Thu\", \"Fri\", \"Sat\"]\n",
        "\n",
        "  days = get_days_in_month(month, year)\n",
        "\n",
        "  print(f\"\\n{month_names[month-1]} {year}\")\n",
        "  print(\"-\" * 20)\n",
        "  print(\" \".join(days_of_week))\n",
        "\n",
        "  day = 1\n",
        "  start_day = (1 + sum(get_days_in_month(m, year) for m in range(1, month))) % 7\n",
        "\n",
        "  for i in range(start_day):\n",
        "    print(\"   \", end=\"\")\n",
        "\n",
        "  while day <= days:\n",
        "    print(f\"{day:2d} \", end=\"\")\n",
        "    if (day + start_day) % 7 == 0:\n",
        "      print()\n",
        "    day += 1\n",
        "\n",
        "# Get input from the user\n",
        "month = int(input(\"Enter month (1-12): \"))\n",
        "year = int(input(\"Enter year: \"))\n",
        "\n",
        "# Generate and print the calendar\n",
        "generate_calendar(month, year)\n"
      ],
      "metadata": {
        "id": "BxS69FYRvzx4"
      },
      "execution_count": null,
      "outputs": []
    },
    {
      "cell_type": "code",
      "source": [
        "# Question: 39. Build a program that simulates a basic text-based blackjack game against the computer.\n",
        "\n",
        "import random\n",
        "\n",
        "def calculate_hand_value(hand):\n",
        "  \"\"\"Calculates the value of a hand in Blackjack.\n",
        "  Aces can be 1 or 11.\n",
        "  \"\"\"\n",
        "  ace_count = hand.count('A')\n",
        "  total = 0\n",
        "  for card in hand:\n",
        "    if card.isdigit():\n",
        "      total += int(card)\n",
        "    elif card in ('J', 'Q', 'K'):\n",
        "      total += 10\n",
        "    elif card == 'A':\n",
        "      total += 11\n",
        "  while total > 21 and ace_count > 0:\n",
        "    total -= 10\n",
        "    ace_count -= 1\n",
        "  return total\n",
        "\n",
        "def deal_card(deck):\n",
        "  \"\"\"Deals a card from the deck.\"\"\"\n",
        "  return deck.pop()\n",
        "\n",
        "def play_blackjack():\n",
        "  \"\"\"Simulates a game of Blackjack.\"\"\"\n",
        "  deck = [str(i) for i in range(2, 11)] * 4 + ['J'] * 4 + ['Q'] * 4 + ['K'] * 4 + ['A'] * 4\n",
        "  random.shuffle(deck)\n",
        "\n",
        "  player_hand = []\n",
        "  dealer_hand = []\n",
        "\n",
        "  # Deal initial hands\n",
        "  for _ in range(2):\n",
        "    player_hand.append(deal_card(deck))\n",
        "    dealer_hand.append(deal_card(deck))\n",
        "\n",
        "  # Player's turn\n",
        "  while True:\n",
        "    print(\"Your hand:\", player_hand)\n",
        "    player_total = calculate_hand_value(player_hand)\n",
        "    print(\"Your total:\", player_total)\n",
        "    if player_total == 21:\n",
        "      print(\"Blackjack!\")\n",
        "      break\n",
        "    elif player_total > 21:\n",
        "      print(\"Bust! You lose.\")\n",
        "      return\n",
        "    choice = input(\"Hit or stand? (h/s): \")\n",
        "    if choice.lower() == 'h':\n",
        "      player_hand.append(deal_card(deck))\n",
        "    else:\n",
        "      break\n",
        "\n",
        "  # Dealer's turn\n",
        "  print(\"\\nDealer's hand:\", dealer_hand)\n",
        "  dealer_total = calculate_hand_value(dealer_hand)\n",
        "  print(\"Dealer's total:\", dealer_total)\n",
        "  while dealer_total < 17:\n",
        "    dealer_hand.append(deal_card(deck))\n",
        "    dealer_total = calculate_hand_value(dealer_hand)\n",
        "    print(\"\\nDealer hits\")\n",
        "    print(\"\\nDealer's hand:\", dealer_hand)\n",
        "    print(\"Dealer's total:\", dealer_total)\n",
        "    if dealer_total > 21:\n",
        "      print(\"Dealer busts! You win.\")\n",
        "      return\n",
        "\n",
        "  # Determine the winner\n",
        "  if player_total > dealer_total or dealer_total > 21:\n",
        "    print(\"You win!\")\n",
        "  elif player_total == dealer_total:\n",
        "    print(\"Push!\")\n",
        "  else:\n",
        "    print(\"You lose.\")\n",
        "\n",
        "# Start the game\n",
        "play_blackjack()\n"
      ],
      "metadata": {
        "id": "j-rcIzqfv9rb"
      },
      "execution_count": null,
      "outputs": []
    },
    {
      "cell_type": "code",
      "source": [
        "# Question: 40. Write a program that generates the prime factors of a given number using trial division.\n",
        "\n",
        "def prime_factors(n):\n",
        "  \"\"\"Generates the prime factors of a given number using trial division.\n",
        "\n",
        "  Args:\n",
        "    n: The number to factorize.\n",
        "\n",
        "  Returns:\n",
        "    A list of prime factors of n.\n",
        "  \"\"\"\n",
        "  factors = []\n",
        "  i = 2\n",
        "  while i * i <= n:\n",
        "    if n % i:\n",
        "      i += 1\n",
        "    else:\n",
        "      n //= i\n",
        "      factors.append(i)\n",
        "  if n > 1:\n",
        "    factors.append(n)\n",
        "  return factors\n",
        "\n",
        "# Get input from the user\n",
        "num = int(input(\"Enter a number: \"))\n",
        "\n",
        "# Calculate and print the prime factors\n",
        "factors = prime_factors(num)\n",
        "print(\"Prime factors of\", num, \"are:\", factors)\n"
      ],
      "metadata": {
        "id": "GuPZGvUGv-Ej"
      },
      "execution_count": null,
      "outputs": []
    }
  ]
}